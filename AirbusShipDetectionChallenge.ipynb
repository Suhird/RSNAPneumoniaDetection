{
  "nbformat": 4,
  "nbformat_minor": 0,
  "metadata": {
    "colab": {
      "name": "AirbusShipDetectionChallenge.ipynb",
      "version": "0.3.2",
      "provenance": [],
      "collapsed_sections": [],
      "include_colab_link": true
    },
    "kernelspec": {
      "name": "python3",
      "display_name": "Python 3"
    },
    "accelerator": "GPU"
  },
  "cells": [
    {
      "cell_type": "markdown",
      "metadata": {
        "id": "view-in-github",
        "colab_type": "text"
      },
      "source": [
        "<a href=\"https://colab.research.google.com/github/Suhird/RSNAPneumoniaDetection/blob/master/AirbusShipDetectionChallenge.ipynb\" target=\"_parent\"><img src=\"https://colab.research.google.com/assets/colab-badge.svg\" alt=\"Open In Colab\"/></a>"
      ]
    },
    {
      "cell_type": "code",
      "metadata": {
        "id": "aiLejSmxFY8d",
        "colab_type": "code",
        "colab": {}
      },
      "source": [
        "!pip install -q imgaug\n",
        "!pip3 install -q tqdm"
      ],
      "execution_count": 0,
      "outputs": []
    },
    {
      "cell_type": "code",
      "metadata": {
        "id": "WZPkbJ7mFxQ0",
        "colab_type": "code",
        "colab": {}
      },
      "source": [
        "!pip3 install -q kaggle"
      ],
      "execution_count": 0,
      "outputs": []
    },
    {
      "cell_type": "code",
      "metadata": {
        "id": "GWYt5Oz7KIIQ",
        "colab_type": "code",
        "colab": {}
      },
      "source": [
        "BATCH_SIZE = 48\n",
        "EDGE_CROP = 16\n",
        "GAUSSIAN_NOISE = 0.1\n",
        "UPSAMPLE_MODE = 'SIMPLE'\n",
        "# downsampling inside the network\n",
        "NET_SCALING = (1, 1)\n",
        "# downsampling in preprocessing\n",
        "IMG_SCALING = (3, 3)\n",
        "# number of validation images to use\n",
        "VALID_IMG_COUNT = 900\n",
        "# maximum number of steps_per_epoch in training\n",
        "MAX_TRAIN_STEPS = 9\n",
        "MAX_TRAIN_EPOCHS = 99\n",
        "AUGMENT_BRIGHTNESS = False"
      ],
      "execution_count": 0,
      "outputs": []
    },
    {
      "cell_type": "code",
      "metadata": {
        "id": "z3f2s_VzaGcW",
        "colab_type": "code",
        "colab": {}
      },
      "source": [
        "import os\n",
        "import sys\n",
        "import random\n",
        "import math\n",
        "import numpy as np\n",
        "import matplotlib.pyplot as plt\n",
        "from matplotlib.cm import get_cmap    #for getting color map\n",
        "import json\n",
        "import pandas as pd"
      ],
      "execution_count": 0,
      "outputs": []
    },
    {
      "cell_type": "code",
      "metadata": {
        "id": "O3nCJYIUwXXd",
        "colab_type": "code",
        "colab": {}
      },
      "source": [
        "#Directory setup for the project\n",
        "ROOT_DIR = os.path.abspath('./airbusProject')\n",
        "#models folder where the trained model will be saved\n",
        "MODEL_DIR = os.path.join(ROOT_DIR, 'models')\n",
        "\n",
        "\n",
        "#Run Below code only once and comment it again\n",
        "#otherwise it will start making sub directories\n",
        "if not os.path.exists(ROOT_DIR):\n",
        "  os.makedirs(ROOT_DIR)\n",
        "os.chdir(ROOT_DIR)"
      ],
      "execution_count": 0,
      "outputs": []
    },
    {
      "cell_type": "code",
      "metadata": {
        "id": "rHQpOSOhF0mk",
        "colab_type": "code",
        "colab": {}
      },
      "source": [
        "os.environ['KAGGLE_USERNAME']=\"suhird\"\n",
        "os.environ['KAGGLE_KEY']=\"7b2dbdab5764fe94ded5e77455242ed6\""
      ],
      "execution_count": 0,
      "outputs": []
    },
    {
      "cell_type": "code",
      "metadata": {
        "id": "WGbNTCOOyqwJ",
        "colab_type": "code",
        "colab": {}
      },
      "source": [
        "#downloading kaggle data\n",
        "!kaggle competitions download -c airbus-ship-detection"
      ],
      "execution_count": 0,
      "outputs": []
    },
    {
      "cell_type": "code",
      "metadata": {
        "id": "0Fq4ARjp2JfN",
        "colab_type": "code",
        "colab": {}
      },
      "source": [
        "#unzipping training and testing data\n",
        "!unzip -q -o train_v2.zip -d train_images\n",
        "!unzip -q -o test_v2.zip -d test_images\n",
        "!unzip -q -o train_ship_segmentations_v2.csv.zip"
      ],
      "execution_count": 0,
      "outputs": []
    },
    {
      "cell_type": "code",
      "metadata": {
        "id": "-MBWoua5d0OC",
        "colab_type": "code",
        "colab": {}
      },
      "source": [
        "TRAIN_IMAGES = os.path.join(ROOT_DIR,'train_images')\n",
        "TEST_IMAGES = os.path.join(ROOT_DIR,'test_images')"
      ],
      "execution_count": 0,
      "outputs": []
    },
    {
      "cell_type": "code",
      "metadata": {
        "id": "cGZ0DIcKgEaw",
        "colab_type": "code",
        "colab": {}
      },
      "source": [
        "#dataframe has 2 columns:- ImageId and EncodedPixels\n",
        "masks = pd.read_csv('train_ship_segmentations_v2.csv')\n",
        "print(masks.shape[0],'total ImageIDs')\n",
        "masks.head(5)\n",
        "not_empty = pd.notna(masks.EncodedPixels)\n",
        "print(not_empty.sum(),'masks in',masks[not_empty].ImageId.nunique(),'images')\n",
        "print((~not_empty).sum(),'empty images in',masks.ImageId.nunique(),'images')\n",
        "masks.head()"
      ],
      "execution_count": 0,
      "outputs": []
    },
    {
      "cell_type": "code",
      "metadata": {
        "id": "NDy20WRRbCbz",
        "colab_type": "code",
        "colab": {}
      },
      "source": [
        "from skimage.io import imread\n",
        "from skimage.segmentation import mark_boundaries\n",
        "from skimage.util import montage2d as montage\n",
        "from skimage.morphology import binary_opening,disk, label\n",
        "import gc\n",
        "gc.enable()    #enabling garbage collection"
      ],
      "execution_count": 0,
      "outputs": []
    },
    {
      "cell_type": "code",
      "metadata": {
        "id": "--6zX62mchJC",
        "colab_type": "code",
        "outputId": "98dc691a-ecd4-4aa6-cff7-13fce41675fe",
        "colab": {
          "base_uri": "https://localhost:8080/",
          "height": 34
        }
      },
      "source": [
        "montage_rgb = lambda x: np.stack([montage(x[:,:,:,i]) for i in range(x.shape[3])], -1)\n",
        "print(montage_rgb)"
      ],
      "execution_count": 0,
      "outputs": [
        {
          "output_type": "stream",
          "text": [
            "<function <lambda> at 0x7fa662ef2d90>\n"
          ],
          "name": "stdout"
        }
      ]
    },
    {
      "cell_type": "code",
      "metadata": {
        "id": "e8tl7qYWeeLZ",
        "colab_type": "code",
        "colab": {}
      },
      "source": [
        "#helper functions for rle encoding and decoding\n",
        "#ref: https://www.kaggle.com/paulorzp/run-length-encode-and-decode\n",
        "\n",
        "def multi_rle_encode(img, **kwargs):\n",
        "  '''\n",
        "  Encode connected regions as separated masks\n",
        "  \n",
        "  '''\n",
        "  labels = label(img)\n",
        "  if img.ndim > 2:\n",
        "    return [rle_encode(np.sum(lables==k,axis=2), **kwargs) for k in np.unique(labels[labels>0])]\n",
        "  else:\n",
        "    return [rle_encode(labels==k,**kwargs) for k in np.unique(labels[labels>0])]\n",
        "  \n",
        "\n",
        "def rle_encode(img, min_max_threshold=1e-3, max_mean_threshold=None):\n",
        "  '''\n",
        "  img: numpy array, 1 - mask, 0 - background\n",
        "  Returns run length as string formated\n",
        "  \n",
        "  '''\n",
        "  if np.max(img) < min_max_threshold:\n",
        "    return '' ## no need to encode if it's all zeros\n",
        "  if max_mean_threshold and np.mean(img) > max_mean_threshold:\n",
        "    return '' ## ignore overfilled mask\n",
        "  pixels = img.T.flatten()\n",
        "  pixels = np.concatenate([[0], pixels, [0]])\n",
        "  runs = np.where(pixels[1:] != pixels[:-1])[0] + 1\n",
        "  runs[1::2] -= runs[::2]\n",
        "  return ' '.join(str(x) for x in runs)\n",
        "\n",
        "\n",
        "def rle_decode(mask_rle, shape=(768, 768)):\n",
        "  '''\n",
        "  mask_rle: run-length as string formated (start length)\n",
        "  shape: (height,width) of array to return \n",
        "  Returns numpy array, 1 - mask, 0 - background\n",
        "  '''\n",
        "  s = mask_rle.split()\n",
        "  starts, lengths = [np.asarray(x, dtype=int) for x in (s[0:][::2], s[1:][::2])]\n",
        "  starts -= 1\n",
        "  ends = starts + lengths\n",
        "  img = np.zeros(shape[0]*shape[1], dtype=np.uint8)\n",
        "  for lo, hi in zip(starts, ends):\n",
        "      img[lo:hi] = 1\n",
        "  return img.reshape(shape).T  # Needed to align to RLE direction\n",
        "\n",
        "\n",
        "def masks_as_image(in_mask_list):\n",
        "  # Take the individual ship masks and create a single mask array for all ships\n",
        "  \n",
        "  all_masks = np.zeros((768, 768), dtype = np.uint8)\n",
        "  for mask in in_mask_list:\n",
        "      if isinstance(mask, str):\n",
        "          all_masks |= rle_decode(mask)\n",
        "  return all_masks\n",
        "\n",
        "\n",
        "def masks_as_color(in_mask_list):\n",
        "  # Take the individual ship masks and create a color mask array for each ships\n",
        "  \n",
        "  all_masks = np.zeros((768, 768), dtype = np.float)\n",
        "  scale = lambda x: (len(in_mask_list)+x+1) / (len(in_mask_list)*2) ## scale the heatmap image to shift \n",
        "  for i,mask in enumerate(in_mask_list):\n",
        "      if isinstance(mask, str):\n",
        "          all_masks[:,:] += scale(i) * rle_decode(mask)\n",
        "  return all_masks"
      ],
      "execution_count": 0,
      "outputs": []
    },
    {
      "cell_type": "code",
      "metadata": {
        "id": "UnXrMs1vnRDe",
        "colab_type": "code",
        "colab": {}
      },
      "source": [
        "# true_img = masks.query('ImageId==\"00021ddc3.jpg\"')['ImageId']\n",
        "# #print(true_img.size)\n",
        "# fig0, ax_m = plt.subplots(nrows=2,ncols=int(true_img.size/2), figsize=(16,5))\n",
        "# #print(true_img)\n",
        "# for images in true_img:\n",
        "#   c_path = os.path.join(TRAIN_IMAGES,images)\n",
        "#   c_img = imread(c_path)\n",
        "#   first_img = np.expand_dims(c_img, 0)/255.0\n",
        "#   ax_m.imshow(first_img)"
      ],
      "execution_count": 0,
      "outputs": []
    },
    {
      "cell_type": "code",
      "metadata": {
        "id": "5oBk7sj9i253",
        "colab_type": "code",
        "colab": {}
      },
      "source": [
        "fig, ((ax1, ax2), (ax3, ax4)) = plt.subplots(nrows=2,ncols=2,figsize=(10,8))\n",
        "rle_0 = masks.query('ImageId==\"000194a2d.jpg\"')['EncodedPixels']\n",
        "img_0 = masks_as_image(rle_0)\n",
        "ax1.imshow(img_0)\n",
        "ax1.set_title('Mask as image')\n",
        "rle_1 = multi_rle_encode(img_0)\n",
        "img_1 = masks_as_image(rle_1)\n",
        "ax2.imshow(img_1)\n",
        "ax2.set_title('Re-encoded')\n",
        "img_c = masks_as_color(rle_0)\n",
        "ax3.imshow(img_c)\n",
        "ax3.set_title('Masks in colors')\n",
        "img_c = masks_as_color(rle_1)\n",
        "ax4.imshow(img_c)\n",
        "ax4.set_title('Re-encoded in colors')\n",
        "print('Check Decoding->Encoding',\n",
        "      'RLE_0:', len(rle_0), '->',\n",
        "      'RLE_1:', len(rle_1))\n",
        "print(np.sum(img_0 - img_1), 'error')"
      ],
      "execution_count": 0,
      "outputs": []
    },
    {
      "cell_type": "markdown",
      "metadata": {
        "id": "LPpZ3FCqDhzU",
        "colab_type": "text"
      },
      "source": [
        "## **Distributing data with Unique and FileSize Constraints**\n",
        "\n",
        "We stratify by the number of boats appearing so we have a nice balances in each set.\n"
      ]
    },
    {
      "cell_type": "code",
      "metadata": {
        "id": "4-oLLVORD4pn",
        "colab_type": "code",
        "colab": {}
      },
      "source": [
        "masks['ships'] = masks['EncodedPixels'].map(lambda c_row: 1 if isinstance(c_row, str) else 0)\n",
        "unique_img_ids = masks.groupby('ImageId').agg({'ships': 'sum'}).reset_index()\n",
        "unique_img_ids['has_ship'] = unique_img_ids['ships'].map(lambda x: 1.0 if x>0 else 0.0)\n",
        "#print(unique_img_ids['has_ship'])\n",
        "unique_img_ids['has_ship_vec'] = unique_img_ids['has_ship'].map(lambda x: [x])\n",
        "#print(unique_img_ids['has_ship_vec'])\n",
        "unique_img_ids['file_size_kb'] = unique_img_ids['ImageId'].map(lambda c_img_id: os.stat(os.path.join(TRAIN_IMAGES, c_img_id)).st_size/1024)\n",
        "unique_img_ids = unique_img_ids[unique_img_ids['file_size_kb'] > 50] # keep only +50kb files\n",
        "ax = unique_img_ids['file_size_kb'].hist()\n",
        "ax.set_xlabel(\"file size\")\n",
        "ax.set_ylabel(\"No. of Images\")\n",
        "masks.drop(['ships'], axis=1, inplace=True)\n",
        "print('Size of unique_img_ids set:',unique_img_ids.size)\n",
        "unique_img_ids.sample(10)"
      ],
      "execution_count": 0,
      "outputs": []
    },
    {
      "cell_type": "code",
      "metadata": {
        "id": "BsoA-YFzGI_q",
        "colab_type": "code",
        "colab": {}
      },
      "source": [
        "bx = unique_img_ids['ships'].hist(bins=unique_img_ids['ships'].max())\n",
        "bx.set_xlabel(\"Number of Ships\")\n",
        "bx.set_ylabel(\"Number of Images\")"
      ],
      "execution_count": 0,
      "outputs": []
    },
    {
      "cell_type": "markdown",
      "metadata": {
        "id": "4zMkEs31Giaa",
        "colab_type": "text"
      },
      "source": [
        "## **Undersample Empty Images**\n",
        "\n",
        "Here we undersample the empty images to get a better balanced group with more ships to try and segment"
      ]
    },
    {
      "cell_type": "code",
      "metadata": {
        "id": "P0Y6QfW0GV_3",
        "colab_type": "code",
        "colab": {}
      },
      "source": [
        "SAMPLES_PER_GROUP = 2000\n",
        "balanced_train_df = unique_img_ids.groupby('ships').apply(lambda x: x.sample(SAMPLES_PER_GROUP) if len(x) > SAMPLES_PER_GROUP else x)\n",
        "balanced_train_df['ships'].hist(bins=balanced_train_df['ships'].max()+1)\n",
        "print(balanced_train_df.shape[0], 'masks')"
      ],
      "execution_count": 0,
      "outputs": []
    },
    {
      "cell_type": "markdown",
      "metadata": {
        "id": "CDw8_DfoH7ds",
        "colab_type": "text"
      },
      "source": [
        "## ***Splitting data into training and validations sets***\n",
        "\n",
        "Using 20% of the total training unique images as validation set"
      ]
    },
    {
      "cell_type": "code",
      "metadata": {
        "id": "E9Rx3mLpG6nB",
        "colab_type": "code",
        "colab": {}
      },
      "source": [
        "from sklearn.model_selection import train_test_split\n",
        "train_ids, valid_ids = train_test_split(balanced_train_df, \n",
        "                 test_size = 0.2, \n",
        "                 stratify = balanced_train_df['ships'])\n",
        "train_df = pd.merge(masks, train_ids)\n",
        "valid_df = pd.merge(masks, valid_ids)\n",
        "print(train_df.shape[0], 'training masks')\n",
        "print(valid_df.shape[0], 'validation masks')\n",
        "print('masks----------------------\\n')\n",
        "print(masks.head(3))\n",
        "print('train_ids------------------\\n')\n",
        "print(train_ids.head(3))\n",
        "print('train_df----------------------\\n')\n",
        "print(train_df.head(3))\n",
        "print(valid_df.shape)"
      ],
      "execution_count": 0,
      "outputs": []
    },
    {
      "cell_type": "markdown",
      "metadata": {
        "id": "BcK1mcoVJSpa",
        "colab_type": "text"
      },
      "source": [
        "## **Decode all the RLEs into Images**\n",
        "\n",
        "We make a generator to produce batches of images"
      ]
    },
    {
      "cell_type": "code",
      "metadata": {
        "id": "e12r1qHWJM7o",
        "colab_type": "code",
        "colab": {}
      },
      "source": [
        "def make_image_gen(in_df, batch_size = BATCH_SIZE):\n",
        "    all_batches = list(in_df.groupby('ImageId'))\n",
        "#     with open('batchFile.txt','w') as f:\n",
        "#       for item in all_batches:\n",
        "#         f.write('{}\\n'.format(item))\n",
        "    out_rgb = []\n",
        "    out_mask = []\n",
        "    while True:\n",
        "        np.random.shuffle(all_batches)\n",
        "        for c_img_id, c_masks in all_batches:\n",
        "            rgb_path = os.path.join(TRAIN_IMAGES, c_img_id)\n",
        "            c_img = imread(rgb_path)\n",
        "            c_mask = np.expand_dims(masks_as_image(c_masks['EncodedPixels'].values), -1)\n",
        "            if IMG_SCALING is not None:\n",
        "                c_img = c_img[::IMG_SCALING[0], ::IMG_SCALING[1]]\n",
        "                c_mask = c_mask[::IMG_SCALING[0], ::IMG_SCALING[1]]\n",
        "            out_rgb += [c_img]\n",
        "            out_mask += [c_mask]\n",
        "            if len(out_rgb)>=batch_size:\n",
        "                yield np.stack(out_rgb, 0)/255.0, np.stack(out_mask, 0)\n",
        "                out_rgb, out_mask=[], []"
      ],
      "execution_count": 0,
      "outputs": []
    },
    {
      "cell_type": "code",
      "metadata": {
        "id": "Fwe1R5XZJ-xf",
        "colab_type": "code",
        "colab": {}
      },
      "source": [
        "train_gen = make_image_gen(train_df)\n",
        "train_x, train_y = next(train_gen)\n",
        "print('x', train_x.shape, train_x.min(), train_x.max())\n",
        "print('y', train_y.shape, train_y.min(), train_y.max())"
      ],
      "execution_count": 0,
      "outputs": []
    },
    {
      "cell_type": "code",
      "metadata": {
        "id": "XFGOC5HfN4Dw",
        "colab_type": "code",
        "colab": {}
      },
      "source": [
        "fig, (ax1, ax2, ax3) = plt.subplots(1, 3, figsize = (30, 10))\n",
        "batch_rgb = montage_rgb(train_x)\n",
        "batch_seg = montage(train_y[:, :, :, 0])\n",
        "ax1.imshow(batch_rgb)\n",
        "ax1.set_title('Images')\n",
        "ax2.imshow(batch_seg)\n",
        "ax2.set_title('Segmentations')\n",
        "ax3.imshow(mark_boundaries(batch_rgb, \n",
        "                           batch_seg.astype(int)))\n",
        "ax3.set_title('Outlined Ships')\n",
        "fig.savefig('overview.png')"
      ],
      "execution_count": 0,
      "outputs": []
    },
    {
      "cell_type": "code",
      "metadata": {
        "id": "jnFkJv2uPHmE",
        "colab_type": "code",
        "outputId": "b3fd7be9-7607-4b52-84a4-0d34ccba9318",
        "colab": {
          "base_uri": "https://localhost:8080/",
          "height": 35
        }
      },
      "source": [
        "valid_x, valid_y = next(make_image_gen(valid_df, VALID_IMG_COUNT))\n",
        "print(valid_x.shape, valid_y.shape)"
      ],
      "execution_count": 0,
      "outputs": [
        {
          "output_type": "stream",
          "text": [
            "(900, 256, 256, 3) (900, 256, 256, 1)\n"
          ],
          "name": "stdout"
        }
      ]
    },
    {
      "cell_type": "markdown",
      "metadata": {
        "id": "JDzfeLkdRYH6",
        "colab_type": "text"
      },
      "source": [
        "##** Augment Image Data**"
      ]
    },
    {
      "cell_type": "code",
      "metadata": {
        "id": "vl78AazzReYo",
        "colab_type": "code",
        "outputId": "66eb5306-74de-474d-a798-a848d311a5d5",
        "colab": {
          "base_uri": "https://localhost:8080/",
          "height": 34
        }
      },
      "source": [
        "from keras.preprocessing.image import ImageDataGenerator\n",
        "dg_args = dict(featurewise_center = False, \n",
        "                  samplewise_center = False,\n",
        "                  rotation_range = 45, \n",
        "                  width_shift_range = 0.1, \n",
        "                  height_shift_range = 0.1, \n",
        "                  shear_range = 0.01,\n",
        "                  zoom_range = [0.9, 1.25],  \n",
        "                  horizontal_flip = True, \n",
        "                  vertical_flip = True,\n",
        "                  fill_mode = 'reflect',\n",
        "                   data_format = 'channels_last')\n",
        "# brightness can be problematic since it seems to change the labels differently from the images \n",
        "if AUGMENT_BRIGHTNESS:\n",
        "    dg_args[' brightness_range'] = [0.5, 1.5]\n",
        "image_gen = ImageDataGenerator(**dg_args)\n",
        "\n",
        "if AUGMENT_BRIGHTNESS:\n",
        "    dg_args.pop('brightness_range')\n",
        "label_gen = ImageDataGenerator(**dg_args)\n",
        "\n",
        "def create_aug_gen(in_gen, seed = None):\n",
        "    np.random.seed(seed if seed is not None else np.random.choice(range(9999)))\n",
        "    for in_x, in_y in in_gen:\n",
        "        seed = np.random.choice(range(9999))\n",
        "        # keep the seeds syncronized otherwise the augmentation to the images is different from the masks\n",
        "        g_x = image_gen.flow(255*in_x, \n",
        "                             batch_size = in_x.shape[0], \n",
        "                             seed = seed, \n",
        "                             shuffle=True)\n",
        "        g_y = label_gen.flow(in_y, \n",
        "                             batch_size = in_x.shape[0], \n",
        "                             seed = seed, \n",
        "                             shuffle=True)\n",
        "\n",
        "        yield next(g_x)/255.0, next(g_y)"
      ],
      "execution_count": 0,
      "outputs": [
        {
          "output_type": "stream",
          "text": [
            "Using TensorFlow backend.\n"
          ],
          "name": "stderr"
        }
      ]
    },
    {
      "cell_type": "code",
      "metadata": {
        "id": "cWzEL5a7RtGD",
        "colab_type": "code",
        "colab": {}
      },
      "source": [
        "cur_gen = create_aug_gen(train_gen)\n",
        "t_x, t_y = next(cur_gen)\n",
        "print('x', t_x.shape, t_x.dtype, t_x.min(), t_x.max())\n",
        "print('y', t_y.shape, t_y.dtype, t_y.min(), t_y.max())\n",
        "# only keep first 9 samples to examine in detail\n",
        "t_x = t_x[:9]\n",
        "t_y = t_y[:9]\n",
        "fig, (ax1, ax2) = plt.subplots(1, 2, figsize = (20, 10))\n",
        "ax1.imshow(montage_rgb(t_x), cmap='gray')\n",
        "ax1.set_title('images')\n",
        "ax2.imshow(montage(t_y[:, :, :, 0]), cmap='gray_r')\n",
        "ax2.set_title('ships')"
      ],
      "execution_count": 0,
      "outputs": []
    },
    {
      "cell_type": "code",
      "metadata": {
        "id": "o4nfBLf_RyQe",
        "colab_type": "code",
        "outputId": "55add666-ca32-47ac-c784-2621cd6ea330",
        "colab": {
          "base_uri": "https://localhost:8080/",
          "height": 35
        }
      },
      "source": [
        "gc.collect()"
      ],
      "execution_count": 0,
      "outputs": [
        {
          "output_type": "execute_result",
          "data": {
            "text/plain": [
              "356459"
            ]
          },
          "metadata": {
            "tags": []
          },
          "execution_count": 98
        }
      ]
    },
    {
      "cell_type": "markdown",
      "metadata": {
        "id": "meqIiU7mR4kx",
        "colab_type": "text"
      },
      "source": [
        "## **Building Model**\n",
        "\n",
        "Here we use a slight deviation on the U-Net Standard"
      ]
    },
    {
      "cell_type": "code",
      "metadata": {
        "id": "saIXKdkPSFZp",
        "colab_type": "code",
        "colab": {}
      },
      "source": [
        "from keras import models, layers\n",
        "# Build U-Net model\n",
        "\n",
        "def upsample_conv(filters, kernel_size, strides, padding):\n",
        "    return layers.Conv2DTranspose(filters, kernel_size, strides=strides, padding=padding)\n",
        "def upsample_simple(filters, kernel_size, strides, padding):\n",
        "    return layers.UpSampling2D(strides)\n",
        "\n",
        "if UPSAMPLE_MODE=='DECONV':\n",
        "    upsample=upsample_conv\n",
        "else:\n",
        "    upsample=upsample_simple\n",
        "    \n",
        "input_img = layers.Input(t_x.shape[1:], name = 'RGB_Input')\n",
        "pp_in_layer = input_img\n",
        "\n",
        "if NET_SCALING is not None:\n",
        "    pp_in_layer = layers.AvgPool2D(NET_SCALING)(pp_in_layer)\n",
        "    \n",
        "pp_in_layer = layers.GaussianNoise(GAUSSIAN_NOISE)(pp_in_layer)\n",
        "pp_in_layer = layers.BatchNormalization()(pp_in_layer)\n",
        "\n",
        "c1 = layers.Conv2D(8, (3, 3), activation='relu', padding='same') (pp_in_layer)\n",
        "c1 = layers.Conv2D(8, (3, 3), activation='relu', padding='same') (c1)\n",
        "p1 = layers.MaxPooling2D((2, 2)) (c1)\n",
        "\n",
        "c2 = layers.Conv2D(16, (3, 3), activation='relu', padding='same') (p1)\n",
        "c2 = layers.Conv2D(16, (3, 3), activation='relu', padding='same') (c2)\n",
        "p2 = layers.MaxPooling2D((2, 2)) (c2)\n",
        "\n",
        "c3 = layers.Conv2D(32, (3, 3), activation='relu', padding='same') (p2)\n",
        "c3 = layers.Conv2D(32, (3, 3), activation='relu', padding='same') (c3)\n",
        "p3 = layers.MaxPooling2D((2, 2)) (c3)\n",
        "\n",
        "c4 = layers.Conv2D(64, (3, 3), activation='relu', padding='same') (p3)\n",
        "c4 = layers.Conv2D(64, (3, 3), activation='relu', padding='same') (c4)\n",
        "p4 = layers.MaxPooling2D(pool_size=(2, 2)) (c4)\n",
        "\n",
        "\n",
        "c5 = layers.Conv2D(128, (3, 3), activation='relu', padding='same') (p4)\n",
        "c5 = layers.Conv2D(128, (3, 3), activation='relu', padding='same') (c5)\n",
        "\n",
        "u6 = upsample(64, (2, 2), strides=(2, 2), padding='same') (c5)\n",
        "u6 = layers.concatenate([u6, c4])\n",
        "c6 = layers.Conv2D(64, (3, 3), activation='relu', padding='same') (u6)\n",
        "c6 = layers.Conv2D(64, (3, 3), activation='relu', padding='same') (c6)\n",
        "\n",
        "u7 = upsample(32, (2, 2), strides=(2, 2), padding='same') (c6)\n",
        "u7 = layers.concatenate([u7, c3])\n",
        "c7 = layers.Conv2D(32, (3, 3), activation='relu', padding='same') (u7)\n",
        "c7 = layers.Conv2D(32, (3, 3), activation='relu', padding='same') (c7)\n",
        "\n",
        "u8 = upsample(16, (2, 2), strides=(2, 2), padding='same') (c7)\n",
        "u8 = layers.concatenate([u8, c2])\n",
        "c8 = layers.Conv2D(16, (3, 3), activation='relu', padding='same') (u8)\n",
        "c8 = layers.Conv2D(16, (3, 3), activation='relu', padding='same') (c8)\n",
        "\n",
        "u9 = upsample(8, (2, 2), strides=(2, 2), padding='same') (c8)\n",
        "u9 = layers.concatenate([u9, c1], axis=3)\n",
        "c9 = layers.Conv2D(8, (3, 3), activation='relu', padding='same') (u9)\n",
        "c9 = layers.Conv2D(8, (3, 3), activation='relu', padding='same') (c9)\n",
        "\n",
        "d = layers.Conv2D(1, (1, 1), activation='sigmoid') (c9)\n",
        "# d = layers.Cropping2D((EDGE_CROP, EDGE_CROP))(d)\n",
        "# d = layers.ZeroPadding2D((EDGE_CROP, EDGE_CROP))(d)\n",
        "if NET_SCALING is not None:\n",
        "    d = layers.UpSampling2D(NET_SCALING)(d)\n",
        "\n",
        "seg_model = models.Model(inputs=[input_img], outputs=[d])\n",
        "seg_model.summary()"
      ],
      "execution_count": 0,
      "outputs": []
    },
    {
      "cell_type": "code",
      "metadata": {
        "id": "5bsXrHu7hjTy",
        "colab_type": "code",
        "colab": {}
      },
      "source": [
        "import keras.backend as K\n",
        "from keras.optimizers import Adam\n",
        "from keras.losses import binary_crossentropy\n",
        "\n",
        "## intersection over union\n",
        "def IoU(y_true, y_pred, eps=1e-6):\n",
        "    if np.max(y_true) == 0.0:\n",
        "        return IoU(1-y_true, 1-y_pred) ## empty image; calc IoU of zeros\n",
        "    intersection = K.sum(y_true * y_pred, axis=[1,2,3])\n",
        "    union = K.sum(y_true, axis=[1,2,3]) + K.sum(y_pred, axis=[1,2,3]) - intersection\n",
        "    return -K.mean( (intersection + eps) / (union + eps), axis=0)"
      ],
      "execution_count": 0,
      "outputs": []
    },
    {
      "cell_type": "code",
      "metadata": {
        "id": "03ky5wrehmpF",
        "colab_type": "code",
        "colab": {}
      },
      "source": [
        "from keras.callbacks import ModelCheckpoint, LearningRateScheduler, EarlyStopping, ReduceLROnPlateau\n",
        "weight_path=\"{}_weights.best.hdf5\".format('seg_model')\n",
        "\n",
        "checkpoint = ModelCheckpoint(weight_path, monitor='val_loss', verbose=1, save_best_only=True, mode='min', save_weights_only=True)\n",
        "\n",
        "reduceLROnPlat = ReduceLROnPlateau(monitor='val_loss', factor=0.33,\n",
        "                                   patience=1, verbose=1, mode='min',\n",
        "                                   min_delta=0.0001, cooldown=0, min_lr=1e-8)\n",
        "\n",
        "early = EarlyStopping(monitor=\"val_loss\", mode=\"min\", verbose=2,\n",
        "                      patience=20) # probably needs to be more patient, but kaggle time is limited\n",
        "\n",
        "callbacks_list = [checkpoint, early, reduceLROnPlat]"
      ],
      "execution_count": 0,
      "outputs": []
    },
    {
      "cell_type": "code",
      "metadata": {
        "id": "cNOzovT3h2xs",
        "colab_type": "code",
        "colab": {}
      },
      "source": [
        "def fit():\n",
        "    seg_model.compile(optimizer=Adam(1e-3, decay=1e-6), loss=IoU, metrics=['binary_accuracy'])\n",
        "    \n",
        "    step_count = min(MAX_TRAIN_STEPS, train_df.shape[0]//BATCH_SIZE)\n",
        "    aug_gen = create_aug_gen(make_image_gen(train_df))\n",
        "    loss_history = [seg_model.fit_generator(aug_gen,\n",
        "                                 steps_per_epoch=step_count,\n",
        "                                 epochs=MAX_TRAIN_EPOCHS,\n",
        "                                 validation_data=(valid_x, valid_y),\n",
        "                                 callbacks=callbacks_list,\n",
        "                                workers=1 # the generator is not very thread safe\n",
        "                                           )]\n",
        "    return loss_history\n",
        "\n",
        "\n",
        "loss_history = fit()\n",
        "# while True:\n",
        "#     loss_history = fit()\n",
        "#     if np.min([mh.history['val_loss'] for mh in loss_history]) < -0.15:\n",
        "#         break"
      ],
      "execution_count": 0,
      "outputs": []
    },
    {
      "cell_type": "code",
      "metadata": {
        "id": "1e-y2ge4bs7m",
        "colab_type": "code",
        "outputId": "c73bc1f0-e54f-4e24-c059-ff077c521df1",
        "colab": {
          "base_uri": "https://localhost:8080/",
          "height": 607
        }
      },
      "source": [
        "def show_loss(loss_history):\n",
        "    epochs = np.concatenate([mh.epoch for mh in loss_history])\n",
        "    fig, (ax1, ax2) = plt.subplots(1, 2, figsize=(15, 10))\n",
        "    \n",
        "    _ = ax1.plot(epochs, np.concatenate([mh.history['loss'] for mh in loss_history]), 'b-',\n",
        "                 epochs, np.concatenate([mh.history['val_loss'] for mh in loss_history]), 'r-')\n",
        "    ax1.legend(['Training', 'Validation'])\n",
        "    ax1.set_title('Loss')\n",
        "    \n",
        "    _ = ax2.plot(epochs, np.concatenate([mh.history['binary_accuracy'] for mh in loss_history]), 'b-',\n",
        "                 epochs, np.concatenate([mh.history['val_binary_accuracy'] for mh in loss_history]), 'r-')\n",
        "    ax2.legend(['Training', 'Validation'])\n",
        "    ax2.set_title('Binary Accuracy (%)')\n",
        "\n",
        "show_loss(loss_history)"
      ],
      "execution_count": 0,
      "outputs": [
        {
          "output_type": "display_data",
          "data": {
            "image/png": "[encoded data removed]",
            "text/plain": [
              "<Figure size 1080x720 with 2 Axes>"
            ]
          },
          "metadata": {
            "tags": []
          }
        }
      ]
    },
    {
      "cell_type": "code",
      "metadata": {
        "id": "KZ00aX2ece8d",
        "colab_type": "code",
        "colab": {}
      },
      "source": [
        "seg_model.load_weights(weight_path)\n",
        "seg_model.save('seg_model.h5')"
      ],
      "execution_count": 0,
      "outputs": []
    },
    {
      "cell_type": "code",
      "metadata": {
        "id": "ADDYlU6jdYhS",
        "colab_type": "code",
        "colab": {}
      },
      "source": [
        "pred_y = seg_model.predict(valid_x)\n",
        "print(pred_y.shape, pred_y.min(axis=0).max(), pred_y.max(axis=0).min(), pred_y.mean())"
      ],
      "execution_count": 0,
      "outputs": []
    },
    {
      "cell_type": "markdown",
      "metadata": {
        "id": "UjpxJBLSddtS",
        "colab_type": "text"
      },
      "source": [
        "## **Prepare Full Resolution Model**\n",
        "Here we account for the scaling so everything can happen in the model itself"
      ]
    },
    {
      "cell_type": "code",
      "metadata": {
        "id": "i9fZOHkndp22",
        "colab_type": "code",
        "colab": {}
      },
      "source": [
        "if IMG_SCALING is not None:\n",
        "    fullres_model = models.Sequential()\n",
        "    fullres_model.add(layers.AvgPool2D(IMG_SCALING, input_shape = (None, None, 3)))\n",
        "    fullres_model.add(seg_model)\n",
        "    fullres_model.add(layers.UpSampling2D(IMG_SCALING))\n",
        "else:\n",
        "    fullres_model = seg_model\n",
        "fullres_model.save('fullres_model.h5')"
      ],
      "execution_count": 0,
      "outputs": []
    },
    {
      "cell_type": "code",
      "metadata": {
        "id": "rwHC-ay4d0bo",
        "colab_type": "code",
        "outputId": "81850be5-1c2f-4695-fbf5-1ced3afb85c6",
        "colab": {
          "base_uri": "https://localhost:8080/",
          "height": 34
        }
      },
      "source": [
        "test_paths = os.listdir(TEST_IMAGES)\n",
        "print(len(test_paths), 'test images found')"
      ],
      "execution_count": 0,
      "outputs": [
        {
          "output_type": "stream",
          "text": [
            "15606 test images found\n"
          ],
          "name": "stdout"
        }
      ]
    },
    {
      "cell_type": "code",
      "metadata": {
        "id": "Vk3Q_Vm0eCgU",
        "colab_type": "code",
        "colab": {}
      },
      "source": [
        "def raw_prediction(img, path=TEST_IMAGES):\n",
        "    c_img = imread(os.path.join(path, c_img_name))\n",
        "    c_img = np.expand_dims(c_img, 0)/255.0\n",
        "    cur_seg = fullres_model.predict(c_img)[0]\n",
        "    return cur_seg, c_img[0]\n",
        "\n",
        "def smooth(cur_seg):\n",
        "    return binary_opening(cur_seg>0.99, np.expand_dims(disk(2), -1))\n",
        "\n",
        "def predict(img, path=TEST_IMAGES):\n",
        "    cur_seg, c_img = raw_prediction(img, path=path)\n",
        "    return smooth(cur_seg), c_img\n",
        "\n",
        "## Get a sample of each group of ship count\n",
        "samples = valid_df.groupby('ships').apply(lambda x: x.sample(1))\n",
        "fig, m_axs = plt.subplots(samples.shape[0], 4, figsize = (15, samples.shape[0]*4))\n",
        "[c_ax.axis('off') for c_ax in m_axs.flatten()]\n",
        "\n",
        "for (ax1, ax2, ax3, ax4), c_img_name in zip(m_axs, samples.ImageId.values):\n",
        "    first_seg, first_img = raw_prediction(c_img_name, TRAIN_IMAGES)\n",
        "    ax1.imshow(first_img)\n",
        "    ax1.set_title('Image: ' + c_img_name)\n",
        "    ax2.imshow(first_seg[:, :, 0], cmap=get_cmap('jet'))\n",
        "    ax2.set_title('Model Prediction')\n",
        "    reencoded = masks_as_color(multi_rle_encode(smooth(first_seg)[:, :, 0]))\n",
        "    ax3.imshow(reencoded)\n",
        "    ax3.set_title('Prediction Masks')\n",
        "    ground_truth = masks_as_color(masks.query('ImageId==\"{}\"'.format(c_img_name))['EncodedPixels'])\n",
        "    ax4.imshow(ground_truth)\n",
        "    ax4.set_title('Ground Truth')\n",
        "    \n",
        "fig.savefig('validation.png')"
      ],
      "execution_count": 0,
      "outputs": []
    }
  ]
}